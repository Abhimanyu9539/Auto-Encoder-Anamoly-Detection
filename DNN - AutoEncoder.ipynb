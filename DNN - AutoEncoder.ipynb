{
 "cells": [
  {
   "cell_type": "markdown",
   "id": "79e21334",
   "metadata": {},
   "source": [
    "# Business Problem\n",
    "\n",
    "1. **Objective**\n",
    "   - To assess if a transaction is risky(in other words, fraudulent) from the given credit card data\n",
    "   - Learn from various features of normal transactions to distinguish fraud transactions better\n",
    "\n",
    "\n",
    "2. **Machine Learning Problem**\n",
    "   - Develop a machine learning model based on deep auto-encoders to learn distribution and relation between features of normal transactions\n",
    "\n",
    "\n",
    "3. **Technology**\n",
    "   - Python, Scikit-learn, tensorflow, keras, Pandas, Numpy\n",
    "   \n",
    "\n",
    "4. **Decision making**\n",
    "   - Select the best model which performs the best w.r.t better mean squared error\n",
    "   - Metrics: MSE\n",
    "   \n",
    "\n",
    "5. **Deployment**\n",
    "   - Deploy model in a scalable way so that business decisions can be taken in near real time in assessing riskiness of a transacttion\n",
    "\n",
    "\n",
    "\n",
    "**Features**<br>\n",
    "Timestamp<br>\n",
    "Value<br>\n",
    "C1<br>\n",
    "C2<br>\n",
    "C3<br>\n",
    "C4<br>\n",
    "C5<br>\n",
    "C6<br>\n",
    "C7<br>\n",
    "C8<br>\n",
    "C9<br>\n",
    "C10<br>\n",
    "C11<br>\n",
    "C12<br>\n",
    "Class<br>"
   ]
  },
  {
   "cell_type": "code",
   "execution_count": 1,
   "id": "8d64c514",
   "metadata": {},
   "outputs": [],
   "source": [
    "import numpy as np\n",
    "import pandas as pd\n",
    "import matplotlib.pyplot as plt\n",
    "import seaborn as sns\n",
    "import tensorflow as tf\n",
    "from tensorflow import keras\n",
    "from tensorflow.keras import layers"
   ]
  },
  {
   "cell_type": "code",
   "execution_count": 2,
   "id": "58dc0095",
   "metadata": {},
   "outputs": [
    {
     "data": {
      "text/html": [
       "<div>\n",
       "<style scoped>\n",
       "    .dataframe tbody tr th:only-of-type {\n",
       "        vertical-align: middle;\n",
       "    }\n",
       "\n",
       "    .dataframe tbody tr th {\n",
       "        vertical-align: top;\n",
       "    }\n",
       "\n",
       "    .dataframe thead th {\n",
       "        text-align: right;\n",
       "    }\n",
       "</style>\n",
       "<table border=\"1\" class=\"dataframe\">\n",
       "  <thead>\n",
       "    <tr style=\"text-align: right;\">\n",
       "      <th></th>\n",
       "      <th>Timestamp</th>\n",
       "      <th>Value</th>\n",
       "      <th>C1</th>\n",
       "      <th>C2</th>\n",
       "      <th>C3</th>\n",
       "      <th>C4</th>\n",
       "      <th>C5</th>\n",
       "      <th>C6</th>\n",
       "      <th>C7</th>\n",
       "      <th>C8</th>\n",
       "      <th>C9</th>\n",
       "      <th>C10</th>\n",
       "      <th>C11</th>\n",
       "      <th>C12</th>\n",
       "      <th>Class</th>\n",
       "    </tr>\n",
       "  </thead>\n",
       "  <tbody>\n",
       "    <tr>\n",
       "      <th>0</th>\n",
       "      <td>152212.222222</td>\n",
       "      <td>1.816</td>\n",
       "      <td>13.245219</td>\n",
       "      <td>NaN</td>\n",
       "      <td>16.367516</td>\n",
       "      <td>0.029326</td>\n",
       "      <td>1.278423</td>\n",
       "      <td>2.748137</td>\n",
       "      <td>-1.331457</td>\n",
       "      <td>0.065879</td>\n",
       "      <td>-0.104518</td>\n",
       "      <td>-0.037517</td>\n",
       "      <td>-250.000000</td>\n",
       "      <td>-0.475633</td>\n",
       "      <td>0</td>\n",
       "    </tr>\n",
       "    <tr>\n",
       "      <th>1</th>\n",
       "      <td>159074.444444</td>\n",
       "      <td>163.568</td>\n",
       "      <td>4.401403</td>\n",
       "      <td>0.084682</td>\n",
       "      <td>-313.000000</td>\n",
       "      <td>0.001888</td>\n",
       "      <td>-0.103762</td>\n",
       "      <td>1.115678</td>\n",
       "      <td>NaN</td>\n",
       "      <td>0.062966</td>\n",
       "      <td>0.130546</td>\n",
       "      <td>-0.303582</td>\n",
       "      <td>NaN</td>\n",
       "      <td>NaN</td>\n",
       "      <td>0</td>\n",
       "    </tr>\n",
       "    <tr>\n",
       "      <th>2</th>\n",
       "      <td>43127.777778</td>\n",
       "      <td>24.000</td>\n",
       "      <td>-9.067399</td>\n",
       "      <td>0.762501</td>\n",
       "      <td>NaN</td>\n",
       "      <td>0.052481</td>\n",
       "      <td>-0.101681</td>\n",
       "      <td>-88.000000</td>\n",
       "      <td>0.117912</td>\n",
       "      <td>NaN</td>\n",
       "      <td>0.358812</td>\n",
       "      <td>-0.367016</td>\n",
       "      <td>NaN</td>\n",
       "      <td>361.000000</td>\n",
       "      <td>0</td>\n",
       "    </tr>\n",
       "    <tr>\n",
       "      <th>3</th>\n",
       "      <td>156042.222222</td>\n",
       "      <td>8.000</td>\n",
       "      <td>8.728304</td>\n",
       "      <td>-0.382673</td>\n",
       "      <td>NaN</td>\n",
       "      <td>-0.116056</td>\n",
       "      <td>-0.122346</td>\n",
       "      <td>-44.000000</td>\n",
       "      <td>-338.000000</td>\n",
       "      <td>0.042154</td>\n",
       "      <td>-0.261259</td>\n",
       "      <td>-0.103974</td>\n",
       "      <td>NaN</td>\n",
       "      <td>-1.654373</td>\n",
       "      <td>0</td>\n",
       "    </tr>\n",
       "    <tr>\n",
       "      <th>4</th>\n",
       "      <td>154720.000000</td>\n",
       "      <td>59.496</td>\n",
       "      <td>7.657141</td>\n",
       "      <td>0.150611</td>\n",
       "      <td>NaN</td>\n",
       "      <td>-0.034883</td>\n",
       "      <td>0.826100</td>\n",
       "      <td>0.357556</td>\n",
       "      <td>0.147640</td>\n",
       "      <td>NaN</td>\n",
       "      <td>0.080491</td>\n",
       "      <td>-0.693792</td>\n",
       "      <td>-0.308631</td>\n",
       "      <td>0.563570</td>\n",
       "      <td>0</td>\n",
       "    </tr>\n",
       "  </tbody>\n",
       "</table>\n",
       "</div>"
      ],
      "text/plain": [
       "       Timestamp    Value         C1        C2          C3        C4  \\\n",
       "0  152212.222222    1.816  13.245219       NaN   16.367516  0.029326   \n",
       "1  159074.444444  163.568   4.401403  0.084682 -313.000000  0.001888   \n",
       "2   43127.777778   24.000  -9.067399  0.762501         NaN  0.052481   \n",
       "3  156042.222222    8.000   8.728304 -0.382673         NaN -0.116056   \n",
       "4  154720.000000   59.496   7.657141  0.150611         NaN -0.034883   \n",
       "\n",
       "         C5         C6          C7        C8        C9       C10         C11  \\\n",
       "0  1.278423   2.748137   -1.331457  0.065879 -0.104518 -0.037517 -250.000000   \n",
       "1 -0.103762   1.115678         NaN  0.062966  0.130546 -0.303582         NaN   \n",
       "2 -0.101681 -88.000000    0.117912       NaN  0.358812 -0.367016         NaN   \n",
       "3 -0.122346 -44.000000 -338.000000  0.042154 -0.261259 -0.103974         NaN   \n",
       "4  0.826100   0.357556    0.147640       NaN  0.080491 -0.693792   -0.308631   \n",
       "\n",
       "          C12  Class  \n",
       "0   -0.475633      0  \n",
       "1         NaN      0  \n",
       "2  361.000000      0  \n",
       "3   -1.654373      0  \n",
       "4    0.563570      0  "
      ]
     },
     "execution_count": 2,
     "metadata": {},
     "output_type": "execute_result"
    }
   ],
   "source": [
    "df = pd.read_csv(\"input/final_cred_data.csv\", index_col = 0)\n",
    "df.head()"
   ]
  },
  {
   "cell_type": "code",
   "execution_count": 3,
   "id": "d39801f6",
   "metadata": {},
   "outputs": [
    {
     "data": {
      "text/plain": [
       "<matplotlib.axes._subplots.AxesSubplot at 0x258b565e580>"
      ]
     },
     "execution_count": 3,
     "metadata": {},
     "output_type": "execute_result"
    },
    {
     "data": {
      "image/png": "[encoded data removed]",
      "text/plain": [
       "<Figure size 432x288 with 1 Axes>"
      ]
     },
     "metadata": {
      "needs_background": "light"
     },
     "output_type": "display_data"
    }
   ],
   "source": [
    "df['Timestamp'].plot.kde()"
   ]
  },
  {
   "cell_type": "code",
   "execution_count": 4,
   "id": "b1178f68",
   "metadata": {},
   "outputs": [
    {
     "data": {
      "text/plain": [
       "0    139747\n",
       "1       253\n",
       "Name: Class, dtype: int64"
      ]
     },
     "execution_count": 4,
     "metadata": {},
     "output_type": "execute_result"
    }
   ],
   "source": [
    "df.Class.value_counts()"
   ]
  },
  {
   "cell_type": "code",
   "execution_count": 5,
   "id": "73193fcd",
   "metadata": {},
   "outputs": [
    {
     "data": {
      "text/plain": [
       "Timestamp        0\n",
       "Value            0\n",
       "C1           23768\n",
       "C2           10269\n",
       "C3           10307\n",
       "C4               0\n",
       "C5           10322\n",
       "C6           23471\n",
       "C7           14405\n",
       "C8           10355\n",
       "C9               0\n",
       "C10          10109\n",
       "C11          14305\n",
       "C12          14167\n",
       "Class            0\n",
       "dtype: int64"
      ]
     },
     "execution_count": 5,
     "metadata": {},
     "output_type": "execute_result"
    }
   ],
   "source": [
    "df.isna().sum()"
   ]
  },
  {
   "cell_type": "code",
   "execution_count": 6,
   "id": "274f6c98",
   "metadata": {},
   "outputs": [
    {
     "data": {
      "text/html": [
       "<div>\n",
       "<style scoped>\n",
       "    .dataframe tbody tr th:only-of-type {\n",
       "        vertical-align: middle;\n",
       "    }\n",
       "\n",
       "    .dataframe tbody tr th {\n",
       "        vertical-align: top;\n",
       "    }\n",
       "\n",
       "    .dataframe thead th {\n",
       "        text-align: right;\n",
       "    }\n",
       "</style>\n",
       "<table border=\"1\" class=\"dataframe\">\n",
       "  <thead>\n",
       "    <tr style=\"text-align: right;\">\n",
       "      <th></th>\n",
       "      <th>C1</th>\n",
       "    </tr>\n",
       "  </thead>\n",
       "  <tbody>\n",
       "    <tr>\n",
       "      <th>count</th>\n",
       "      <td>116232.000000</td>\n",
       "    </tr>\n",
       "    <tr>\n",
       "      <th>mean</th>\n",
       "      <td>-13.647954</td>\n",
       "    </tr>\n",
       "    <tr>\n",
       "      <th>std</th>\n",
       "      <td>224.599903</td>\n",
       "    </tr>\n",
       "    <tr>\n",
       "      <th>min</th>\n",
       "      <td>-2000.000000</td>\n",
       "    </tr>\n",
       "    <tr>\n",
       "      <th>25%</th>\n",
       "      <td>-6.419730</td>\n",
       "    </tr>\n",
       "    <tr>\n",
       "      <th>50%</th>\n",
       "      <td>-1.250014</td>\n",
       "    </tr>\n",
       "    <tr>\n",
       "      <th>75%</th>\n",
       "      <td>5.063801</td>\n",
       "    </tr>\n",
       "    <tr>\n",
       "      <th>max</th>\n",
       "      <td>2000.000000</td>\n",
       "    </tr>\n",
       "  </tbody>\n",
       "</table>\n",
       "</div>"
      ],
      "text/plain": [
       "                  C1\n",
       "count  116232.000000\n",
       "mean      -13.647954\n",
       "std       224.599903\n",
       "min     -2000.000000\n",
       "25%        -6.419730\n",
       "50%        -1.250014\n",
       "75%         5.063801\n",
       "max      2000.000000"
      ]
     },
     "execution_count": 6,
     "metadata": {},
     "output_type": "execute_result"
    }
   ],
   "source": [
    "df[['C1']].describe()"
   ]
  },
  {
   "cell_type": "code",
   "execution_count": 7,
   "id": "fe2e51aa",
   "metadata": {},
   "outputs": [
    {
     "data": {
      "text/html": [
       "<div>\n",
       "<style scoped>\n",
       "    .dataframe tbody tr th:only-of-type {\n",
       "        vertical-align: middle;\n",
       "    }\n",
       "\n",
       "    .dataframe tbody tr th {\n",
       "        vertical-align: top;\n",
       "    }\n",
       "\n",
       "    .dataframe thead th {\n",
       "        text-align: right;\n",
       "    }\n",
       "</style>\n",
       "<table border=\"1\" class=\"dataframe\">\n",
       "  <thead>\n",
       "    <tr style=\"text-align: right;\">\n",
       "      <th></th>\n",
       "      <th>C2</th>\n",
       "    </tr>\n",
       "  </thead>\n",
       "  <tbody>\n",
       "    <tr>\n",
       "      <th>count</th>\n",
       "      <td>129731.000000</td>\n",
       "    </tr>\n",
       "    <tr>\n",
       "      <th>mean</th>\n",
       "      <td>-15.797094</td>\n",
       "    </tr>\n",
       "    <tr>\n",
       "      <th>std</th>\n",
       "      <td>72.631165</td>\n",
       "    </tr>\n",
       "    <tr>\n",
       "      <th>min</th>\n",
       "      <td>-500.000000</td>\n",
       "    </tr>\n",
       "    <tr>\n",
       "      <th>25%</th>\n",
       "      <td>-0.262951</td>\n",
       "    </tr>\n",
       "    <tr>\n",
       "      <th>50%</th>\n",
       "      <td>-0.019520</td>\n",
       "    </tr>\n",
       "    <tr>\n",
       "      <th>75%</th>\n",
       "      <td>0.220734</td>\n",
       "    </tr>\n",
       "    <tr>\n",
       "      <th>max</th>\n",
       "      <td>100.000000</td>\n",
       "    </tr>\n",
       "  </tbody>\n",
       "</table>\n",
       "</div>"
      ],
      "text/plain": [
       "                  C2\n",
       "count  129731.000000\n",
       "mean      -15.797094\n",
       "std        72.631165\n",
       "min      -500.000000\n",
       "25%        -0.262951\n",
       "50%        -0.019520\n",
       "75%         0.220734\n",
       "max       100.000000"
      ]
     },
     "execution_count": 7,
     "metadata": {},
     "output_type": "execute_result"
    }
   ],
   "source": [
    "df[['C2']].describe()"
   ]
  },
  {
   "cell_type": "code",
   "execution_count": 8,
   "id": "6cce2291",
   "metadata": {},
   "outputs": [],
   "source": [
    "# W|\\for elements in ['C1','C2','C3','C4','C5','C6','C7','C8','C9','C10','C11','C12']:\n",
    "#     pd[[elements]].plot.kde()"
   ]
  },
  {
   "cell_type": "code",
   "execution_count": 9,
   "id": "3b2b5b62",
   "metadata": {},
   "outputs": [],
   "source": [
    "df = df.fillna(df.mean()).drop(\"Timestamp\", axis=1)"
   ]
  },
  {
   "cell_type": "code",
   "execution_count": 10,
   "id": "d08753d4",
   "metadata": {},
   "outputs": [],
   "source": [
    "normalized_df=(df-df.min())/(df.max()-df.min())"
   ]
  },
  {
   "cell_type": "code",
   "execution_count": 11,
   "id": "ff597069",
   "metadata": {},
   "outputs": [],
   "source": [
    "train_x = normalized_df.drop(\"Class\", axis=1).values\n",
    "train_y = normalized_df.values"
   ]
  },
  {
   "cell_type": "code",
   "execution_count": 12,
   "id": "6984e783",
   "metadata": {},
   "outputs": [
    {
     "name": "stdout",
     "output_type": "stream",
     "text": [
      "(140000, 13) (140000, 14)\n"
     ]
    }
   ],
   "source": [
    "print(train_x.shape, train_y.shape)"
   ]
  },
  {
   "cell_type": "markdown",
   "id": "516670a5",
   "metadata": {},
   "source": [
    "## Modeling"
   ]
  },
  {
   "cell_type": "code",
   "execution_count": 13,
   "id": "b28b034e",
   "metadata": {},
   "outputs": [],
   "source": [
    "model = keras.Sequential(\n",
    "                          [\n",
    "                            keras.Input(shape=(13, )),\n",
    "                            layers.Dense(13, activation=\"relu\"),\n",
    "                            layers.Dense(6, activation=\"relu\"),\n",
    "                            layers.Dense(6, activation=\"relu\"),\n",
    "                            layers.Dense(13, activation=\"linear\"),\n",
    "                          ]\n",
    "                        )\n",
    "optimizer = keras.optimizers.RMSprop(learning_rate=0.01)\n",
    "model.compile(loss=\"mse\", optimizer=optimizer)"
   ]
  },
  {
   "cell_type": "code",
   "execution_count": 14,
   "id": "a01891ff",
   "metadata": {},
   "outputs": [
    {
     "name": "stdout",
     "output_type": "stream",
     "text": [
      "Epoch 1/20\n",
      "1094/1094 [==============================] - 1s 587us/step - loss: 0.0094\n",
      "Epoch 2/20\n",
      "1094/1094 [==============================] - 1s 635us/step - loss: 0.0040\n",
      "Epoch 3/20\n",
      "1094/1094 [==============================] - 1s 575us/step - loss: 0.0032\n",
      "Epoch 4/20\n",
      "1094/1094 [==============================] - 1s 634us/step - loss: 0.0027\n",
      "Epoch 5/20\n",
      "1094/1094 [==============================] - 1s 569us/step - loss: 0.0026\n",
      "Epoch 6/20\n",
      "1094/1094 [==============================] - 1s 617us/step - loss: 0.0026\n",
      "Epoch 7/20\n",
      "1094/1094 [==============================] - 1s 649us/step - loss: 0.0026\n",
      "Epoch 8/20\n",
      "1094/1094 [==============================] - 1s 575us/step - loss: 0.0026\n",
      "Epoch 9/20\n",
      "1094/1094 [==============================] - 1s 620us/step - loss: 0.0026\n",
      "Epoch 10/20\n",
      "1094/1094 [==============================] - 1s 561us/step - loss: 0.0026\n",
      "Epoch 11/20\n",
      "1094/1094 [==============================] - 1s 634us/step - loss: 0.0025\n",
      "Epoch 12/20\n",
      "1094/1094 [==============================] - 1s 588us/step - loss: 0.0025\n",
      "Epoch 13/20\n",
      "1094/1094 [==============================] - 1s 604us/step - loss: 0.0025\n",
      "Epoch 14/20\n",
      "1094/1094 [==============================] - 1s 617us/step - loss: 0.0025\n",
      "Epoch 15/20\n",
      "1094/1094 [==============================] - 1s 604us/step - loss: 0.0025\n",
      "Epoch 16/20\n",
      "1094/1094 [==============================] - 1s 612us/step - loss: 0.0025\n",
      "Epoch 17/20\n",
      "1094/1094 [==============================] - 1s 577us/step - loss: 0.0025\n",
      "Epoch 18/20\n",
      "1094/1094 [==============================] - 1s 606us/step - loss: 0.0025\n",
      "Epoch 19/20\n",
      "1094/1094 [==============================] - 1s 576us/step - loss: 0.0025\n",
      "Epoch 20/20\n",
      "1094/1094 [==============================] - 1s 635us/step - loss: 0.0025\n"
     ]
    },
    {
     "data": {
      "text/plain": [
       "<tensorflow.python.keras.callbacks.History at 0x258b8f1ca30>"
      ]
     },
     "execution_count": 14,
     "metadata": {},
     "output_type": "execute_result"
    }
   ],
   "source": [
    "model.fit(train_x, train_x, batch_size=128, epochs=20)"
   ]
  },
  {
   "cell_type": "code",
   "execution_count": 15,
   "id": "a4ab0126",
   "metadata": {},
   "outputs": [
    {
     "data": {
      "text/plain": [
       "array([[0.00886904, 0.49575922, 0.80039877, ..., 0.851835  , 0.50520676,\n",
       "        0.50356084],\n",
       "       [0.00737427, 0.49515963, 0.83255434, ..., 0.84384406, 0.50140333,\n",
       "        0.499565  ],\n",
       "       [0.00926953, 0.49642864, 0.81279373, ..., 0.8526235 , 0.5052518 ,\n",
       "        0.5037108 ],\n",
       "       ...,\n",
       "       [0.00749711, 0.49507338, 0.8316024 , ..., 0.8447575 , 0.50187594,\n",
       "        0.50009567],\n",
       "       [0.00894327, 0.49592057, 0.8210548 , ..., 0.8518616 , 0.505139  ,\n",
       "        0.50378346],\n",
       "       [0.00895185, 0.49593446, 0.8211057 , ..., 0.85187995, 0.5051409 ,\n",
       "        0.5037844 ]], dtype=float32)"
      ]
     },
     "execution_count": 15,
     "metadata": {},
     "output_type": "execute_result"
    }
   ],
   "source": [
    "predictions = model.predict(train_x)\n",
    "predictions"
   ]
  },
  {
   "cell_type": "code",
   "execution_count": 16,
   "id": "f34b95dd",
   "metadata": {},
   "outputs": [
    {
     "name": "stdout",
     "output_type": "stream",
     "text": [
      "0.002800163471631504\n"
     ]
    }
   ],
   "source": [
    "error = np.square(np.subtract(predictions, train_x)).mean(axis=1)\n",
    "print(np.square(np.subtract(predictions, train_x)).mean())"
   ]
  },
  {
   "cell_type": "code",
   "execution_count": 17,
   "id": "9e371fe4",
   "metadata": {},
   "outputs": [
    {
     "data": {
      "text/html": [
       "<div>\n",
       "<style scoped>\n",
       "    .dataframe tbody tr th:only-of-type {\n",
       "        vertical-align: middle;\n",
       "    }\n",
       "\n",
       "    .dataframe tbody tr th {\n",
       "        vertical-align: top;\n",
       "    }\n",
       "\n",
       "    .dataframe thead th {\n",
       "        text-align: right;\n",
       "    }\n",
       "</style>\n",
       "<table border=\"1\" class=\"dataframe\">\n",
       "  <thead>\n",
       "    <tr style=\"text-align: right;\">\n",
       "      <th></th>\n",
       "      <th>error</th>\n",
       "    </tr>\n",
       "  </thead>\n",
       "  <tbody>\n",
       "    <tr>\n",
       "      <th>0</th>\n",
       "      <td>0.001043</td>\n",
       "    </tr>\n",
       "    <tr>\n",
       "      <th>1</th>\n",
       "      <td>0.001709</td>\n",
       "    </tr>\n",
       "    <tr>\n",
       "      <th>2</th>\n",
       "      <td>0.003559</td>\n",
       "    </tr>\n",
       "    <tr>\n",
       "      <th>3</th>\n",
       "      <td>0.005792</td>\n",
       "    </tr>\n",
       "    <tr>\n",
       "      <th>4</th>\n",
       "      <td>0.000671</td>\n",
       "    </tr>\n",
       "  </tbody>\n",
       "</table>\n",
       "</div>"
      ],
      "text/plain": [
       "      error\n",
       "0  0.001043\n",
       "1  0.001709\n",
       "2  0.003559\n",
       "3  0.005792\n",
       "4  0.000671"
      ]
     },
     "execution_count": 17,
     "metadata": {},
     "output_type": "execute_result"
    }
   ],
   "source": [
    "pd_error = pd.DataFrame(error, columns=[\"error\"])\n",
    "pd_error.head()"
   ]
  },
  {
   "cell_type": "code",
   "execution_count": 18,
   "id": "a38ff462",
   "metadata": {},
   "outputs": [
    {
     "data": {
      "text/html": [
       "<div>\n",
       "<style scoped>\n",
       "    .dataframe tbody tr th:only-of-type {\n",
       "        vertical-align: middle;\n",
       "    }\n",
       "\n",
       "    .dataframe tbody tr th {\n",
       "        vertical-align: top;\n",
       "    }\n",
       "\n",
       "    .dataframe thead th {\n",
       "        text-align: right;\n",
       "    }\n",
       "</style>\n",
       "<table border=\"1\" class=\"dataframe\">\n",
       "  <thead>\n",
       "    <tr style=\"text-align: right;\">\n",
       "      <th></th>\n",
       "      <th>error</th>\n",
       "    </tr>\n",
       "  </thead>\n",
       "  <tbody>\n",
       "    <tr>\n",
       "      <th>count</th>\n",
       "      <td>140000.000000</td>\n",
       "    </tr>\n",
       "    <tr>\n",
       "      <th>mean</th>\n",
       "      <td>0.002800</td>\n",
       "    </tr>\n",
       "    <tr>\n",
       "      <th>std</th>\n",
       "      <td>0.004046</td>\n",
       "    </tr>\n",
       "    <tr>\n",
       "      <th>min</th>\n",
       "      <td>0.000092</td>\n",
       "    </tr>\n",
       "    <tr>\n",
       "      <th>25%</th>\n",
       "      <td>0.000678</td>\n",
       "    </tr>\n",
       "    <tr>\n",
       "      <th>50%</th>\n",
       "      <td>0.001442</td>\n",
       "    </tr>\n",
       "    <tr>\n",
       "      <th>75%</th>\n",
       "      <td>0.002979</td>\n",
       "    </tr>\n",
       "    <tr>\n",
       "      <th>max</th>\n",
       "      <td>0.125179</td>\n",
       "    </tr>\n",
       "  </tbody>\n",
       "</table>\n",
       "</div>"
      ],
      "text/plain": [
       "               error\n",
       "count  140000.000000\n",
       "mean        0.002800\n",
       "std         0.004046\n",
       "min         0.000092\n",
       "25%         0.000678\n",
       "50%         0.001442\n",
       "75%         0.002979\n",
       "max         0.125179"
      ]
     },
     "execution_count": 18,
     "metadata": {},
     "output_type": "execute_result"
    }
   ],
   "source": [
    "pd_error.describe()"
   ]
  },
  {
   "cell_type": "code",
   "execution_count": 19,
   "id": "45ea940c",
   "metadata": {},
   "outputs": [],
   "source": [
    "final_df = pd.concat([df.reset_index(drop=True), pd_error.reset_index(drop=True)], axis=1)"
   ]
  },
  {
   "cell_type": "code",
   "execution_count": 20,
   "id": "5f8d5e93",
   "metadata": {},
   "outputs": [
    {
     "data": {
      "text/plain": [
       "<matplotlib.axes._subplots.AxesSubplot at 0x258b8fb2640>"
      ]
     },
     "execution_count": 20,
     "metadata": {},
     "output_type": "execute_result"
    },
    {
     "data": {
      "image/png": "[encoded data removed]",
      "text/plain": [
       "<Figure size 432x288 with 1 Axes>"
      ]
     },
     "metadata": {
      "needs_background": "light"
     },
     "output_type": "display_data"
    }
   ],
   "source": [
    "final_df[final_df.Class==1].error.plot.kde()"
   ]
  },
  {
   "cell_type": "code",
   "execution_count": 21,
   "id": "a9669411",
   "metadata": {},
   "outputs": [
    {
     "data": {
      "text/plain": [
       "<matplotlib.axes._subplots.AxesSubplot at 0x258b8fa17c0>"
      ]
     },
     "execution_count": 21,
     "metadata": {},
     "output_type": "execute_result"
    },
    {
     "data": {
      "image/png": "[encoded data removed]",
      "text/plain": [
       "<Figure size 432x288 with 1 Axes>"
      ]
     },
     "metadata": {
      "needs_background": "light"
     },
     "output_type": "display_data"
    }
   ],
   "source": [
    "final_df[final_df.Class==0].error.plot.kde()"
   ]
  },
  {
   "cell_type": "code",
   "execution_count": 22,
   "id": "10bd4f91",
   "metadata": {},
   "outputs": [
    {
     "data": {
      "text/html": [
       "<div>\n",
       "<style scoped>\n",
       "    .dataframe tbody tr th:only-of-type {\n",
       "        vertical-align: middle;\n",
       "    }\n",
       "\n",
       "    .dataframe tbody tr th {\n",
       "        vertical-align: top;\n",
       "    }\n",
       "\n",
       "    .dataframe thead th {\n",
       "        text-align: right;\n",
       "    }\n",
       "</style>\n",
       "<table border=\"1\" class=\"dataframe\">\n",
       "  <thead>\n",
       "    <tr style=\"text-align: right;\">\n",
       "      <th></th>\n",
       "      <th>Value</th>\n",
       "      <th>C1</th>\n",
       "      <th>C2</th>\n",
       "      <th>C3</th>\n",
       "      <th>C4</th>\n",
       "      <th>C5</th>\n",
       "      <th>C6</th>\n",
       "      <th>C7</th>\n",
       "      <th>C8</th>\n",
       "      <th>C9</th>\n",
       "      <th>C10</th>\n",
       "      <th>C11</th>\n",
       "      <th>C12</th>\n",
       "      <th>Class</th>\n",
       "      <th>error</th>\n",
       "    </tr>\n",
       "  </thead>\n",
       "  <tbody>\n",
       "    <tr>\n",
       "      <th>0</th>\n",
       "      <td>1.816</td>\n",
       "      <td>13.245219</td>\n",
       "      <td>-15.797094</td>\n",
       "      <td>16.367516</td>\n",
       "      <td>0.029326</td>\n",
       "      <td>1.278423</td>\n",
       "      <td>2.748137</td>\n",
       "      <td>-1.331457</td>\n",
       "      <td>0.065879</td>\n",
       "      <td>-0.104518</td>\n",
       "      <td>-0.037517</td>\n",
       "      <td>-250.000000</td>\n",
       "      <td>-0.475633</td>\n",
       "      <td>0</td>\n",
       "      <td>0.001043</td>\n",
       "    </tr>\n",
       "    <tr>\n",
       "      <th>1</th>\n",
       "      <td>163.568</td>\n",
       "      <td>4.401403</td>\n",
       "      <td>0.084682</td>\n",
       "      <td>-313.000000</td>\n",
       "      <td>0.001888</td>\n",
       "      <td>-0.103762</td>\n",
       "      <td>1.115678</td>\n",
       "      <td>-14.760374</td>\n",
       "      <td>0.062966</td>\n",
       "      <td>0.130546</td>\n",
       "      <td>-0.303582</td>\n",
       "      <td>-15.500080</td>\n",
       "      <td>-15.491673</td>\n",
       "      <td>0</td>\n",
       "      <td>0.001709</td>\n",
       "    </tr>\n",
       "    <tr>\n",
       "      <th>2</th>\n",
       "      <td>24.000</td>\n",
       "      <td>-9.067399</td>\n",
       "      <td>0.762501</td>\n",
       "      <td>-16.141105</td>\n",
       "      <td>0.052481</td>\n",
       "      <td>-0.101681</td>\n",
       "      <td>-88.000000</td>\n",
       "      <td>0.117912</td>\n",
       "      <td>-16.067148</td>\n",
       "      <td>0.358812</td>\n",
       "      <td>-0.367016</td>\n",
       "      <td>-15.500080</td>\n",
       "      <td>361.000000</td>\n",
       "      <td>0</td>\n",
       "      <td>0.003559</td>\n",
       "    </tr>\n",
       "    <tr>\n",
       "      <th>3</th>\n",
       "      <td>8.000</td>\n",
       "      <td>8.728304</td>\n",
       "      <td>-0.382673</td>\n",
       "      <td>-16.141105</td>\n",
       "      <td>-0.116056</td>\n",
       "      <td>-0.122346</td>\n",
       "      <td>-44.000000</td>\n",
       "      <td>-338.000000</td>\n",
       "      <td>0.042154</td>\n",
       "      <td>-0.261259</td>\n",
       "      <td>-0.103974</td>\n",
       "      <td>-15.500080</td>\n",
       "      <td>-1.654373</td>\n",
       "      <td>0</td>\n",
       "      <td>0.005792</td>\n",
       "    </tr>\n",
       "    <tr>\n",
       "      <th>4</th>\n",
       "      <td>59.496</td>\n",
       "      <td>7.657141</td>\n",
       "      <td>0.150611</td>\n",
       "      <td>-16.141105</td>\n",
       "      <td>-0.034883</td>\n",
       "      <td>0.826100</td>\n",
       "      <td>0.357556</td>\n",
       "      <td>0.147640</td>\n",
       "      <td>-16.067148</td>\n",
       "      <td>0.080491</td>\n",
       "      <td>-0.693792</td>\n",
       "      <td>-0.308631</td>\n",
       "      <td>0.563570</td>\n",
       "      <td>0</td>\n",
       "      <td>0.000671</td>\n",
       "    </tr>\n",
       "    <tr>\n",
       "      <th>5</th>\n",
       "      <td>7.192</td>\n",
       "      <td>-6.944700</td>\n",
       "      <td>-0.136388</td>\n",
       "      <td>0.543172</td>\n",
       "      <td>-0.024708</td>\n",
       "      <td>0.112116</td>\n",
       "      <td>1.647884</td>\n",
       "      <td>-0.003729</td>\n",
       "      <td>0.039702</td>\n",
       "      <td>0.097664</td>\n",
       "      <td>-0.341836</td>\n",
       "      <td>-274.000000</td>\n",
       "      <td>-0.056484</td>\n",
       "      <td>0</td>\n",
       "      <td>0.000844</td>\n",
       "    </tr>\n",
       "    <tr>\n",
       "      <th>6</th>\n",
       "      <td>10.320</td>\n",
       "      <td>133.000000</td>\n",
       "      <td>-0.540177</td>\n",
       "      <td>8.803812</td>\n",
       "      <td>-0.007307</td>\n",
       "      <td>-67.000000</td>\n",
       "      <td>1.709944</td>\n",
       "      <td>-0.316351</td>\n",
       "      <td>-0.003741</td>\n",
       "      <td>0.187718</td>\n",
       "      <td>-16.029764</td>\n",
       "      <td>0.338621</td>\n",
       "      <td>0.227839</td>\n",
       "      <td>0</td>\n",
       "      <td>0.001038</td>\n",
       "    </tr>\n",
       "    <tr>\n",
       "      <th>7</th>\n",
       "      <td>1.584</td>\n",
       "      <td>-0.670264</td>\n",
       "      <td>-0.164626</td>\n",
       "      <td>-8.848897</td>\n",
       "      <td>0.002278</td>\n",
       "      <td>0.078981</td>\n",
       "      <td>1.143923</td>\n",
       "      <td>-472.000000</td>\n",
       "      <td>0.010555</td>\n",
       "      <td>0.065275</td>\n",
       "      <td>0.029735</td>\n",
       "      <td>-0.396261</td>\n",
       "      <td>-0.182626</td>\n",
       "      <td>0</td>\n",
       "      <td>0.001093</td>\n",
       "    </tr>\n",
       "    <tr>\n",
       "      <th>8</th>\n",
       "      <td>100.000</td>\n",
       "      <td>1.984216</td>\n",
       "      <td>0.416604</td>\n",
       "      <td>-178.000000</td>\n",
       "      <td>-0.003641</td>\n",
       "      <td>53.000000</td>\n",
       "      <td>-13.681959</td>\n",
       "      <td>0.109451</td>\n",
       "      <td>0.022316</td>\n",
       "      <td>-0.039217</td>\n",
       "      <td>0.438853</td>\n",
       "      <td>-0.184313</td>\n",
       "      <td>0.643273</td>\n",
       "      <td>0</td>\n",
       "      <td>0.001007</td>\n",
       "    </tr>\n",
       "    <tr>\n",
       "      <th>9</th>\n",
       "      <td>0.712</td>\n",
       "      <td>5.857276</td>\n",
       "      <td>-0.073466</td>\n",
       "      <td>0.667938</td>\n",
       "      <td>-0.000891</td>\n",
       "      <td>-0.012069</td>\n",
       "      <td>1.427191</td>\n",
       "      <td>-101.000000</td>\n",
       "      <td>-0.038324</td>\n",
       "      <td>0.014183</td>\n",
       "      <td>-0.109039</td>\n",
       "      <td>0.420946</td>\n",
       "      <td>-61.000000</td>\n",
       "      <td>0</td>\n",
       "      <td>0.000183</td>\n",
       "    </tr>\n",
       "  </tbody>\n",
       "</table>\n",
       "</div>"
      ],
      "text/plain": [
       "     Value          C1         C2          C3        C4         C5         C6  \\\n",
       "0    1.816   13.245219 -15.797094   16.367516  0.029326   1.278423   2.748137   \n",
       "1  163.568    4.401403   0.084682 -313.000000  0.001888  -0.103762   1.115678   \n",
       "2   24.000   -9.067399   0.762501  -16.141105  0.052481  -0.101681 -88.000000   \n",
       "3    8.000    8.728304  -0.382673  -16.141105 -0.116056  -0.122346 -44.000000   \n",
       "4   59.496    7.657141   0.150611  -16.141105 -0.034883   0.826100   0.357556   \n",
       "5    7.192   -6.944700  -0.136388    0.543172 -0.024708   0.112116   1.647884   \n",
       "6   10.320  133.000000  -0.540177    8.803812 -0.007307 -67.000000   1.709944   \n",
       "7    1.584   -0.670264  -0.164626   -8.848897  0.002278   0.078981   1.143923   \n",
       "8  100.000    1.984216   0.416604 -178.000000 -0.003641  53.000000 -13.681959   \n",
       "9    0.712    5.857276  -0.073466    0.667938 -0.000891  -0.012069   1.427191   \n",
       "\n",
       "           C7         C8        C9        C10         C11         C12  Class  \\\n",
       "0   -1.331457   0.065879 -0.104518  -0.037517 -250.000000   -0.475633      0   \n",
       "1  -14.760374   0.062966  0.130546  -0.303582  -15.500080  -15.491673      0   \n",
       "2    0.117912 -16.067148  0.358812  -0.367016  -15.500080  361.000000      0   \n",
       "3 -338.000000   0.042154 -0.261259  -0.103974  -15.500080   -1.654373      0   \n",
       "4    0.147640 -16.067148  0.080491  -0.693792   -0.308631    0.563570      0   \n",
       "5   -0.003729   0.039702  0.097664  -0.341836 -274.000000   -0.056484      0   \n",
       "6   -0.316351  -0.003741  0.187718 -16.029764    0.338621    0.227839      0   \n",
       "7 -472.000000   0.010555  0.065275   0.029735   -0.396261   -0.182626      0   \n",
       "8    0.109451   0.022316 -0.039217   0.438853   -0.184313    0.643273      0   \n",
       "9 -101.000000  -0.038324  0.014183  -0.109039    0.420946  -61.000000      0   \n",
       "\n",
       "      error  \n",
       "0  0.001043  \n",
       "1  0.001709  \n",
       "2  0.003559  \n",
       "3  0.005792  \n",
       "4  0.000671  \n",
       "5  0.000844  \n",
       "6  0.001038  \n",
       "7  0.001093  \n",
       "8  0.001007  \n",
       "9  0.000183  "
      ]
     },
     "execution_count": 22,
     "metadata": {},
     "output_type": "execute_result"
    }
   ],
   "source": [
    "final_df[final_df.Class==0].head(10)"
   ]
  }
 ],
 "metadata": {
  "kernelspec": {
   "display_name": "Python 3 (ipykernel)",
   "language": "python",
   "name": "python3"
  },
  "language_info": {
   "codemirror_mode": {
    "name": "ipython",
    "version": 3
   },
   "file_extension": ".py",
   "mimetype": "text/x-python",
   "name": "python",
   "nbconvert_exporter": "python",
   "pygments_lexer": "ipython3",
   "version": "3.8.10"
  }
 },
 "nbformat": 4,
 "nbformat_minor": 5
}
